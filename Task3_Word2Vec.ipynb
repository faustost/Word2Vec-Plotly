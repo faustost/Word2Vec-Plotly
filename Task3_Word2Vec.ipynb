{
 "cells": [
  {
   "cell_type": "markdown",
   "metadata": {},
   "source": [
    "# Interactive Recommendation System with Word Embeddings using Word2Vec, Plotly, and NetworkX\n",
    "\n",
    "## Project Breakdown\n",
    "- Task 1: Introduction\n",
    "- Task 2: Exploratory Data Analysis and Preprocessing\n",
    "- Task 3: Word2Vec with Gensim (you are here)\n",
    "- Task 4: Exploring Results\n",
    "- Task 5: Building and Visualizing Interactive Network Graph\n",
    "\n",
    "## Task 3: Word2Vec with Gensim\n",
    "Word2Vec original papers can be found [here](https://arxiv.org/pdf/1301.3781.pdf) and [here](https://arxiv.org/pdf/1310.4546.pdf), while the documentation for the Gensim model can be found [here](https://radimrehurek.com/gensim/models/word2vec.html).\n",
    "\n",
    "![Word2Vec architecture](Data/word2vec.jpeg)"
   ]
  },
  {
   "cell_type": "code",
   "execution_count": 1,
   "metadata": {},
   "outputs": [],
   "source": [
    "from gensim.models.word2vec import Word2Vec\n",
    "from tqdm import tqdm\n",
    "import pandas as pd\n",
    "import pickle"
   ]
  },
  {
   "cell_type": "code",
   "execution_count": 3,
   "metadata": {},
   "outputs": [],
   "source": [
    "with open('Data/train_data.pkl', 'rb') as f:\n",
    "    train_data = pickle.load(f)"
   ]
  },
  {
   "cell_type": "code",
   "execution_count": 4,
   "metadata": {},
   "outputs": [
    {
     "data": {
      "text/plain": [
       "['place',\n",
       " 'chicken',\n",
       " 'butter',\n",
       " 'soup',\n",
       " 'onion',\n",
       " 'slow',\n",
       " 'cooker',\n",
       " 'water',\n",
       " 'cover',\n",
       " 'cover',\n",
       " 'cook',\n",
       " 'hours',\n",
       " 'high',\n",
       " 'minutes',\n",
       " 'serving',\n",
       " 'place',\n",
       " 'torn',\n",
       " 'biscuit',\n",
       " 'dough',\n",
       " 'slow',\n",
       " 'cooker',\n",
       " 'cook',\n",
       " 'dough',\n",
       " 'longer',\n",
       " 'raw',\n",
       " 'center']"
      ]
     },
     "execution_count": 4,
     "metadata": {},
     "output_type": "execute_result"
    }
   ],
   "source": [
    "train_data[0]"
   ]
  },
  {
   "cell_type": "code",
   "execution_count": 6,
   "metadata": {},
   "outputs": [],
   "source": [
    "model = Word2Vec()"
   ]
  },
  {
   "cell_type": "code",
   "execution_count": 8,
   "metadata": {},
   "outputs": [],
   "source": [
    "#model?"
   ]
  },
  {
   "cell_type": "code",
   "execution_count": 12,
   "metadata": {},
   "outputs": [],
   "source": [
    "model.build_vocab(train_data)"
   ]
  },
  {
   "cell_type": "code",
   "execution_count": 13,
   "metadata": {},
   "outputs": [
    {
     "name": "stdout",
     "output_type": "stream",
     "text": [
      "CPU times: user 2min 49s, sys: 552 ms, total: 2min 49s\n",
      "Wall time: 1min 27s\n"
     ]
    },
    {
     "data": {
      "text/plain": [
       "(68096463, 81403200)"
      ]
     },
     "execution_count": 13,
     "metadata": {},
     "output_type": "execute_result"
    }
   ],
   "source": [
    "%%time\n",
    "model.train(train_data, total_examples=model.corpus_count, epochs=model.epochs)"
   ]
  },
  {
   "cell_type": "code",
   "execution_count": 15,
   "metadata": {},
   "outputs": [
    {
     "data": {
      "text/plain": [
       "[('dressing', 0.6186662316322327),\n",
       " ('vinaigrette', 0.5525026321411133),\n",
       " ('caesar', 0.537085235118866),\n",
       " ('pheasant', 0.534424364566803),\n",
       " ('mesclun', 0.5175861120223999),\n",
       " ('romaine', 0.5136029720306396),\n",
       " ('turkey', 0.5086547136306763),\n",
       " ('squab', 0.5047982931137085),\n",
       " ('watercress', 0.5045303106307983),\n",
       " ('slaw', 0.5032996535301208),\n",
       " ('dressed', 0.501069188117981),\n",
       " ('thousand', 0.49524760246276855),\n",
       " ('ranch', 0.48755571246147156),\n",
       " ('lettuces', 0.48373889923095703),\n",
       " ('mizuna', 0.48023971915245056),\n",
       " ('tabbouleh', 0.4789750874042511),\n",
       " ('salads', 0.47481685876846313),\n",
       " ('frisee', 0.4722917377948761),\n",
       " ('radicchio', 0.4669337868690491),\n",
       " ('island', 0.4660421311855316)]"
      ]
     },
     "execution_count": 15,
     "metadata": {},
     "output_type": "execute_result"
    }
   ],
   "source": [
    "model.wv.most_similar(['salad', 'chicken'], topn=20)"
   ]
  },
  {
   "cell_type": "code",
   "execution_count": 16,
   "metadata": {},
   "outputs": [],
   "source": [
    "model.save('Data/w2v.model')"
   ]
  }
 ],
 "metadata": {
  "kernelspec": {
   "display_name": "Python 3",
   "language": "python",
   "name": "python3"
  },
  "language_info": {
   "codemirror_mode": {
    "name": "ipython",
    "version": 3
   },
   "file_extension": ".py",
   "mimetype": "text/x-python",
   "name": "python",
   "nbconvert_exporter": "python",
   "pygments_lexer": "ipython3",
   "version": "3.6.9"
  }
 },
 "nbformat": 4,
 "nbformat_minor": 4
}
